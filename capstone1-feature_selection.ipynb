{
 "cells": [
  {
   "cell_type": "markdown",
   "metadata": {},
   "source": [
    "## Feature Selection"
   ]
  },
  {
   "cell_type": "code",
   "execution_count": 1,
   "metadata": {},
   "outputs": [
    {
     "name": "stderr",
     "output_type": "stream",
     "text": [
      "/Users/litalert/anaconda/lib/python3.6/site-packages/statsmodels/compat/pandas.py:56: FutureWarning: The pandas.core.datetools module is deprecated and will be removed in a future version. Please use the pandas.tseries module instead.\n",
      "  from pandas.core import datetools\n"
     ]
    }
   ],
   "source": [
    "import pandas as pd\n",
    "import numpy as np\n",
    "from statsmodels.tsa.stattools import adfuller\n",
    "import matplotlib.pyplot as plt\n",
    "from sklearn.linear_model import Ridge\n",
    "from sklearn.preprocessing import StandardScaler"
   ]
  },
  {
   "cell_type": "code",
   "execution_count": 2,
   "metadata": {
    "collapsed": true
   },
   "outputs": [],
   "source": [
    "# Import dataframe and create combination pairs\n",
    "\n",
    "df = pd.read_csv('cap1_df.csv', index_col='time')"
   ]
  },
  {
   "cell_type": "code",
   "execution_count": 3,
   "metadata": {
    "collapsed": true
   },
   "outputs": [],
   "source": [
    "# Standardizing the data\n",
    "\n",
    "sc_x = StandardScaler()\n",
    "df_scaled = pd.DataFrame(sc_x.fit_transform(df), index=df.index, columns=df.columns)"
   ]
  },
  {
   "cell_type": "code",
   "execution_count": 4,
   "metadata": {
    "collapsed": true
   },
   "outputs": [],
   "source": [
    "# Perfrom differencing to stationalize the series\n",
    "\n",
    "# Creat difference function, with default value of lag 24\n",
    "def difference(dataset, interval=24):\n",
    "    diff = list()\n",
    "    for i in range(interval, len(dataset)):\n",
    "        value = dataset[i] - dataset[i - interval]\n",
    "        diff.append(value)\n",
    "    return diff\n",
    "\n",
    "# Differencing the dataset\n",
    "inter_d = 24\n",
    "df_diff = pd.DataFrame(index=df.index)\n",
    "for i in df.columns:\n",
    "    data = difference(df[i], inter_d)\n",
    "    data = pd.Series(np.append(np.repeat(np.nan, inter_d), data), index=df.index, name=i)\n",
    "    df_diff = pd.concat([df_diff, data], ignore_index=False, axis=1)\n"
   ]
  },
  {
   "cell_type": "code",
   "execution_count": 5,
   "metadata": {},
   "outputs": [
    {
     "name": "stdout",
     "output_type": "stream",
     "text": [
      "\u001b[1mXEM\u001b[0m\n",
      "ADF Statistic: -6.83150095951\n",
      "p-value: 1.88858182501e-09\n",
      "\u001b[1mIOT\u001b[0m\n",
      "ADF Statistic: -5.98245899634\n",
      "p-value: 1.82481756577e-07\n",
      "\u001b[1mamd\u001b[0m\n",
      "ADF Statistic: -5.01907813356\n",
      "p-value: 2.03424427636e-05\n",
      "\u001b[1mnvda\u001b[0m\n",
      "ADF Statistic: -5.49441702533\n",
      "p-value: 2.13933248844e-06\n",
      "\u001b[1mmc_iota\u001b[0m\n",
      "ADF Statistic: -5.6864627114\n",
      "p-value: 8.25761702993e-07\n",
      "\u001b[1mmc_nem\u001b[0m\n",
      "ADF Statistic: -5.91136047062\n",
      "p-value: 2.63416200312e-07\n",
      "\u001b[1mgg_crypto\u001b[0m\n",
      "ADF Statistic: -5.64278120984\n",
      "p-value: 1.02742466525e-06\n",
      "\u001b[1mgg_nem_p\u001b[0m\n",
      "ADF Statistic: -6.9377547564\n",
      "p-value: 1.043980964e-09\n",
      "\u001b[1mgg_iota_p\u001b[0m\n",
      "ADF Statistic: -6.95764227342\n",
      "p-value: 9.33941718838e-10\n",
      "\u001b[1mgg_bitcoin_p\u001b[0m\n",
      "ADF Statistic: -6.09183701313\n",
      "p-value: 1.03202549508e-07\n",
      "\u001b[1mgg_nem_w\u001b[0m\n",
      "ADF Statistic: -7.02679923165\n",
      "p-value: 6.33382076644e-10\n",
      "\u001b[1mgg_iota_w\u001b[0m\n",
      "ADF Statistic: -6.46430742298\n",
      "p-value: 1.41774221815e-08\n",
      "\u001b[1mgg_gpu\u001b[0m\n",
      "ADF Statistic: -5.40719447168\n",
      "p-value: 3.27132126135e-06\n",
      "\u001b[1mrd_CrypCurr_g\u001b[0m\n",
      "ADF Statistic: -6.16210166326\n",
      "p-value: 7.13299426129e-08\n",
      "\u001b[1mrd_nem_g\u001b[0m\n",
      "ADF Statistic: -6.9986585772\n",
      "p-value: 7.41949983977e-10\n",
      "\u001b[1mrd_Iota_g\u001b[0m\n",
      "ADF Statistic: -5.9947006796\n",
      "p-value: 1.71258125056e-07\n"
     ]
    }
   ],
   "source": [
    "# Perform Dickey-fuller test to test the differenced series for stationality\n",
    "\n",
    "diff = df_diff.dropna()\n",
    "\n",
    "for i in diff.columns: \n",
    "    x = diff[i].values\n",
    "    result = adfuller(x)\n",
    "    print('\\033[1m' + i + '\\033[0m')\n",
    "    print('ADF Statistic:', result[0])\n",
    "    print('p-value:', result[1])"
   ]
  },
  {
   "cell_type": "code",
   "execution_count": 6,
   "metadata": {
    "collapsed": true
   },
   "outputs": [],
   "source": [
    "# Splitting data to test/train sets\n",
    "\n",
    "X = diff[['IOT', 'amd', 'nvda', 'mc_iota', 'mc_nem', 'gg_crypto','gg_nem_p', 'gg_iota_p', 'gg_bitcoin_p', 'gg_nem_w', 'gg_iota_w','gg_gpu', 'rd_CrypCurr_g', 'rd_nem_g', 'rd_Iota_g']]\n",
    "#Xtest = diff[1310:][['IOT', 'amd', 'nvda', 'mc_iota', 'mc_nem', 'gg_crypto','gg_nem_p', 'gg_iota_p', 'gg_bitcoin_p', 'gg_nem_w', 'gg_iota_w','gg_gpu', 'rd_CrypCurr_g', 'rd_nem_g', 'rd_Iota_g']]\n",
    "Ytrain = pd.DataFrame(diff[:1310]['XEM'])\n",
    "Ytest = pd.DataFrame(diff[1310:]['XEM'])"
   ]
  },
  {
   "cell_type": "code",
   "execution_count": 7,
   "metadata": {},
   "outputs": [
    {
     "name": "stdout",
     "output_type": "stream",
     "text": [
      "IOT : 0.145924325373\n",
      "amd : 0.000453795679276\n",
      "nvda : 0.00044978898306\n",
      "mc_iota : -1.76028646061e-11\n",
      "mc_nem : 3.8710608909e-11\n",
      "gg_crypto : -7.26360715452e-05\n",
      "gg_nem_p : 1.06398857884e-05\n",
      "gg_iota_p : 4.27204867118e-05\n",
      "gg_bitcoin_p : -0.000112799003464\n",
      "gg_nem_w : 0.000104502545265\n",
      "gg_iota_w : -0.000166305719068\n",
      "gg_gpu : 4.7757483564e-05\n",
      "rd_CrypCurr_g : 6.64618024296e-06\n",
      "rd_nem_g : 0.000101917798405\n",
      "rd_Iota_g : -5.20553266801e-06\n"
     ]
    }
   ],
   "source": [
    "# Performing Ridge Regression and extract predictors with high coefficient values\n",
    "\n",
    "ridge = Ridge(alpha=0.1, normalize=True)\n",
    "ridge.fit(X[:1310], Ytrain)\n",
    "coef = list(ridge.coef_)\n",
    "count = 0\n",
    "for i in X.columns:\n",
    "    print(i, ':', coef[0][count])\n",
    "    count = count + 1"
   ]
  },
  {
   "cell_type": "code",
   "execution_count": 8,
   "metadata": {
    "collapsed": true
   },
   "outputs": [],
   "source": [
    "# Identifying selected features\n",
    "\n",
    "sig = ['IOT', 'amd', 'nvda', 'gg_bitcoin_p', 'gg_nem_w', 'gg_iota_w', 'rd_nem_g']"
   ]
  },
  {
   "cell_type": "code",
   "execution_count": 9,
   "metadata": {
    "collapsed": true
   },
   "outputs": [],
   "source": [
    "# Constructing dataframe\n",
    "\n",
    "X_sig = pd.DataFrame(index=X.index, columns=[sig])\n",
    "for i in sig:\n",
    "    X_sig[i] = X[i]\n",
    "    count = count + 1\n",
    "\n",
    "# Save dataframe\n",
    "X_sig[:1310].to_csv('X_train.csv')\n",
    "X_sig[1310:].to_csv('X_test.csv')\n",
    "Ytrain.to_csv('Y_train.csv')\n",
    "Ytest.to_csv('Y_test.csv')"
   ]
  },
  {
   "cell_type": "markdown",
   "metadata": {
    "collapsed": true
   },
   "source": [
    "### Conclusions: \n",
    "We performed Ridge Regression on 16 predictors. The smaller the coefficent, the less significant a predictor is. We selected 7 predictors with highest coefficents for our model. "
   ]
  },
  {
   "cell_type": "code",
   "execution_count": null,
   "metadata": {
    "collapsed": true
   },
   "outputs": [],
   "source": []
  }
 ],
 "metadata": {
  "kernelspec": {
   "display_name": "Python 3",
   "language": "python",
   "name": "python3"
  },
  "language_info": {
   "codemirror_mode": {
    "name": "ipython",
    "version": 3
   },
   "file_extension": ".py",
   "mimetype": "text/x-python",
   "name": "python",
   "nbconvert_exporter": "python",
   "pygments_lexer": "ipython3",
   "version": "3.6.1"
  }
 },
 "nbformat": 4,
 "nbformat_minor": 2
}
